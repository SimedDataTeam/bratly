{
 "cells": [
  {
   "cell_type": "code",
   "execution_count": 1,
   "metadata": {},
   "outputs": [],
   "source": [
    "# import the three modules\n",
    "import bratly as bt\n",
    "import bratly_eval as bteval\n",
    "import bratly_io_fs as btio"
   ]
  },
  {
   "cell_type": "markdown",
   "metadata": {},
   "source": [
    "## Build annotations programmatically - first entities in a toy example\n",
    "To make your annotation, you have to\n",
    "  1. Identify indices of interest of your annotation (start, end).\n",
    "  2. Instantiate a Fragment - which encodes the indices.\n",
    "  3. Instantiate an EntityAnnotation - which finally encodes the entity."
   ]
  },
  {
   "cell_type": "code",
   "execution_count": 2,
   "metadata": {},
   "outputs": [
    {
     "data": {
      "text/plain": [
       "(35, 41)"
      ]
     },
     "execution_count": 2,
     "metadata": {},
     "output_type": "execute_result"
    }
   ],
   "source": [
    "my_string = \"Let's work on annotated files in a Bratly manner. This is more straightforward than ever !\"\n",
    "entity_to_annotate = \"Bratly\"\n",
    "\n",
    "index_start = my_string.find(entity_to_annotate)\n",
    "index_end = index_start + len(entity_to_annotate)\n",
    "index_start, index_end"
   ]
  },
  {
   "cell_type": "code",
   "execution_count": 3,
   "metadata": {},
   "outputs": [
    {
     "data": {
      "text/plain": [
       "T1\tPythonPackage 35 41\tBratly"
      ]
     },
     "execution_count": 3,
     "metadata": {},
     "output_type": "execute_result"
    }
   ],
   "source": [
    "my_fragment = bt.Fragment(start=index_start, end=index_end)\n",
    "my_entity_1 = bt.EntityAnnotation(id=\"1\", label=\"PythonPackage\", fragments=[my_fragment], content=my_string[index_start:index_end])\n",
    "my_entity_1"
   ]
  },
  {
   "cell_type": "markdown",
   "metadata": {},
   "source": [
    "NOTE: You can have multiple fragments in a single EntityAnnotation - allowing discontinuous annotations. For instance:"
   ]
  },
  {
   "cell_type": "code",
   "execution_count": 4,
   "metadata": {},
   "outputs": [
    {
     "data": {
      "text/plain": [
       "T2\tComparative 58 62;79 83\tmore than"
      ]
     },
     "execution_count": 4,
     "metadata": {},
     "output_type": "execute_result"
    }
   ],
   "source": [
    "entities_to_annotate = [\"more\", \"than\"]\n",
    "\n",
    "my_fragments = []\n",
    "for e in entities_to_annotate:\n",
    "    ind_start = my_string.find(e)\n",
    "    ind_end = ind_start + len(e)\n",
    "    fragment = bt.Fragment(start=ind_start, end=ind_end)\n",
    "    my_fragments.append(fragment)\n",
    "\n",
    "multi_frag_content = \" \".join(entities_to_annotate)\n",
    "my_entity_2 = bt.EntityAnnotation(id=\"2\", label=\"Comparative\", fragments=my_fragments, content=multi_frag_content)\n",
    "my_entity_2"
   ]
  },
  {
   "cell_type": "markdown",
   "metadata": {},
   "source": [
    "NOTE2: Bratly supports all 7 types of annotations used by BRAT. They are:\n",
    "- EntityAnnotation\n",
    "- RelationAnnotation\n",
    "- AttributeAnnotation\n",
    "- EquivalenceAnnotation\n",
    "- NormalizationAnnotation\n",
    "- EventAnnotation\n",
    "- NoteAnnotation"
   ]
  },
  {
   "cell_type": "markdown",
   "metadata": {},
   "source": [
    "## Save the annotations and visualize it on BRAT\n",
    "To save your annotations, you have to\n",
    "  1. Instantiate an AnnotationCollection - which encodes the content of a .ann file (BRAT standoff format).\n",
    "  2. Use bratly-io-fs (manage input-output functions) to save the AnnotationCollection as a file.\n",
    "  3. Save the txt file as well - and run BRAT to visualize the annotations."
   ]
  },
  {
   "cell_type": "code",
   "execution_count": 5,
   "metadata": {},
   "outputs": [
    {
     "data": {
      "text/plain": [
       "AnnotationCollection(version='0.0.1', comment='Empty comment', annotations=[T1\tPythonPackage 35 41\tBratly, T2\tComparative 58 62;79 83\tmore than])"
      ]
     },
     "execution_count": 5,
     "metadata": {},
     "output_type": "execute_result"
    }
   ],
   "source": [
    "my_annotation_collection = bt.AnnotationCollection(annotations=[my_entity_1, my_entity_2])\n",
    "my_annotation_collection"
   ]
  },
  {
   "cell_type": "code",
   "execution_count": 6,
   "metadata": {},
   "outputs": [],
   "source": [
    "# Save annotations\n",
    "path_data = \"/workspaces/project/data/demo/\"\n",
    "btio.write_ann_file(annotations=my_annotation_collection, path=path_data+\"toy_example.ann\")"
   ]
  },
  {
   "cell_type": "code",
   "execution_count": 7,
   "metadata": {},
   "outputs": [],
   "source": [
    "# Also save the text\n",
    "with open(path_data+\"toy_example.txt\", \"w\") as file:\n",
    "    file.write(my_string)"
   ]
  },
  {
   "attachments": {
    "image.png": {
     "image/png": "[encoded data removed]"
    }
   },
   "cell_type": "markdown",
   "metadata": {},
   "source": [
    "![image.png](attachment:image.png)"
   ]
  },
  {
   "cell_type": "markdown",
   "metadata": {},
   "source": [
    "## Read Annotations From Disk\n",
    "You can either:\n",
    "1. Read the ann file only - getting only the AnnotationCollection, hence without the text reference\n",
    "2. Or read both the ann and txt files - through a Document instance"
   ]
  },
  {
   "cell_type": "code",
   "execution_count": 8,
   "metadata": {},
   "outputs": [
    {
     "data": {
      "text/plain": [
       "AnnotationCollection(version='0.0.1', comment='Empty comment', annotations=[T1\tPythonPackage 35 41\tBratly, T2\tComparative 58 62;79 83\tmore than])"
      ]
     },
     "execution_count": 8,
     "metadata": {},
     "output_type": "execute_result"
    }
   ],
   "source": [
    "# Read only the annotations...\n",
    "my_annotations = btio.read_and_load_ann_file(path_data+\"toy_example.ann\")\n",
    "my_annotations"
   ]
  },
  {
   "cell_type": "code",
   "execution_count": 9,
   "metadata": {},
   "outputs": [
    {
     "name": "stdout",
     "output_type": "stream",
     "text": [
      "Attempt to find ann file through the path:  /workspaces/project/data/demo/toy_example.ann\n",
      "==> My annotations are included in: [AnnotationCollection(version='0.0.1', comment='Empty comment', annotations=[T1\tPythonPackage 35 41\tBratly, T2\tComparative 58 62;79 83\tmore than])]\n",
      "==> My text is available in: Let's work on annotated files in a Bratly manner. This is more straightforward than ever !\n"
     ]
    }
   ],
   "source": [
    "# ... or read both\n",
    "my_annotated_document = btio.read_and_load_txt_file(path_data+\"toy_example.txt\")\n",
    "# the type is Document\n",
    "assert(isinstance(my_annotated_document, bt.Document))\n",
    "# It includes a list of AnnotationCollection objects in case a text has multiple annotations (e.g. parallel annotation, etc)\n",
    "print(f\"==> My annotations are included in: {my_annotated_document.annotation_collections}\")\n",
    "# It does not directly store the text content (for memory flexibility), but the path being stored, you can access to the text this way\n",
    "print(f\"==> My text is available in: {my_annotated_document.get_txt_content()}\")"
   ]
  },
  {
   "cell_type": "markdown",
   "metadata": {},
   "source": [
    "## Manage annotated dataset\n",
    "To work with datasets annotated with BRAT (multiple txt-ann pairs), the class DocumentCollection handles that.\n",
    "You can load datasets as a DocumentCollection using bratly-io-fs module."
   ]
  },
  {
   "cell_type": "code",
   "execution_count": 10,
   "metadata": {},
   "outputs": [
    {
     "name": "stdout",
     "output_type": "stream",
     "text": [
      "This dataset has 258 annotated documents.\n"
     ]
    }
   ],
   "source": [
    "# Reading the MEDINA, an annotated dataset (available in https://github.com/grouin/medina)\n",
    "my_dataset = btio.read_document_collection_from_folder(path_data+\"eval/test3/medina/\")\n",
    "assert isinstance(my_dataset, bt.DocumentCollection)\n",
    "print(f\"This dataset has {len(my_dataset)} annotated documents.\")"
   ]
  },
  {
   "cell_type": "code",
   "execution_count": 11,
   "metadata": {},
   "outputs": [
    {
     "name": "stdout",
     "output_type": "stream",
     "text": [
      "Annotation types statistics\n"
     ]
    },
    {
     "data": {
      "text/plain": [
       "{bratly.annotation_types.EntityAnnotation: 4078,\n",
       " bratly.annotation_types.RelationAnnotation: 0,\n",
       " bratly.annotation_types.EquivalenceAnnotation: 0,\n",
       " bratly.annotation_types.EventAnnotation: 0,\n",
       " bratly.annotation_types.AttributeAnnotation: 0,\n",
       " bratly.annotation_types.NormalizationAnnotation: 0,\n",
       " bratly.annotation_types.NoteAnnotation: 0}"
      ]
     },
     "execution_count": 11,
     "metadata": {},
     "output_type": "execute_result"
    }
   ],
   "source": [
    "# The type is DocumentCollection\n",
    "assert(isinstance(my_dataset, bt.DocumentCollection))\n",
    "\n",
    "# What kind of annotations do we have - and how many\n",
    "annot_stats = my_dataset.stats_annotation_types()\n",
    "print(\"Annotation types statistics\")\n",
    "annot_stats"
   ]
  },
  {
   "cell_type": "code",
   "execution_count": 12,
   "metadata": {},
   "outputs": [
    {
     "name": "stdout",
     "output_type": "stream",
     "text": [
      "Entity Annotation labels statistics\n"
     ]
    },
    {
     "data": {
      "text/plain": [
       "{'Date': 992,\n",
       " 'ID': 305,\n",
       " 'Organisation': 616,\n",
       " 'Lieu': 961,\n",
       " 'Divers': 363,\n",
       " 'Personne': 841}"
      ]
     },
     "execution_count": 12,
     "metadata": {},
     "output_type": "execute_result"
    }
   ],
   "source": [
    "assert(isinstance(my_dataset, bt.DocumentCollection))\n",
    "# What kind of entities are inside my dataset\n",
    "entity_stats = my_dataset.stats_labels_given_annot_type(descendant_type=bt.EntityAnnotation)\n",
    "print(\"Entity Annotation labels statistics\")\n",
    "entity_stats"
   ]
  },
  {
   "cell_type": "code",
   "execution_count": 13,
   "metadata": {},
   "outputs": [
    {
     "data": {
      "text/plain": [
       "{'26 novembre 2019': 5,\n",
       " '2020': 30,\n",
       " '1er avril 2020': 1,\n",
       " '2 juin 2020': 1,\n",
       " '6 janvier 2020': 2,\n",
       " '31 janvier 2020': 2,\n",
       " '7 février 2020': 1,\n",
       " '7 févier 2020': 1,\n",
       " '2 février 2018': 4,\n",
       " '17 mars 1975': 1,\n",
       " '2 janvier 2018': 3,\n",
       " '19 décembre 2019': 8,\n",
       " '28 février 2001': 2,\n",
       " '26 juillet 1994': 1,\n",
       " '13 juillet 1993': 1,\n",
       " '26 février 2019': 2,\n",
       " '11 février 1976': 1,\n",
       " '19 mars 2018': 36,\n",
       " '2019': 14,\n",
       " '9 décembre 2019': 3,\n",
       " '22 octobre 2019': 9,\n",
       " '5 novembre 2019': 5,\n",
       " '17 décembre 2019': 8,\n",
       " '5 décembre 2019': 7,\n",
       " '20 janvier 2020': 2,\n",
       " '4 mai 2020': 1,\n",
       " '22 décembre 2017': 1,\n",
       " '10 avril 2020': 1,\n",
       " '10 janvier 2017': 4,\n",
       " '24 novembre 2016': 8,\n",
       " '20 février 2019': 2,\n",
       " '1er décembre 1980': 1,\n",
       " '1er mars 2019': 3,\n",
       " '29 juin 2001': 1,\n",
       " '28 octobre 2019': 10,\n",
       " '1er août 1986': 1,\n",
       " '1er novembre 2019': 7,\n",
       " '24 octobre 2019': 7,\n",
       " '18 septembre 2000': 1,\n",
       " '27 juin 2011': 2,\n",
       " '27 juin 2019': 1,\n",
       " '1er juillet 2019': 1,\n",
       " '23 août 2019': 1,\n",
       " '4 octobre 2019': 2,\n",
       " '9 juillet 2019': 8,\n",
       " '7 février 1934': 1,\n",
       " '28 novembre 2019': 12,\n",
       " '5 mai 1995': 1,\n",
       " '29 mars 2001': 1,\n",
       " '26 novembre 1987': 1,\n",
       " '18 décembre 1996': 1,\n",
       " '1989': 1,\n",
       " '19 décembre 2018': 15,\n",
       " '24 juin 1977': 1,\n",
       " '5 février 2019': 5,\n",
       " '13 octobre 1985': 1,\n",
       " '2 mai 2018': 2,\n",
       " '18 novembre 2019': 3,\n",
       " '12 novembre 2019': 3,\n",
       " '27 mars 1984': 2,\n",
       " '15 octobre 2019': 2,\n",
       " '23 janvier 2018': 1,\n",
       " '25 juin 2019': 1,\n",
       " '10 juin 2019': 1,\n",
       " '11 juin 2019': 1,\n",
       " '15 juillet 2019': 2,\n",
       " '16 juillet 2019': 2,\n",
       " '20 novembre 2018': 1,\n",
       " '23 octobre 2019': 5,\n",
       " '26 juillet 2019': 2,\n",
       " '4 janvier 2018': 1,\n",
       " '5 janvier 2018': 1,\n",
       " '6 août 2019': 3,\n",
       " '7 août 2019': 1,\n",
       " '8 août 2019': 1,\n",
       " '20 octobre 2019': 1,\n",
       " '12 juin 2019': 1,\n",
       " '10 février 2018': 1,\n",
       " '15 mars 2018': 1,\n",
       " '13 novembre 2018': 1,\n",
       " '25 novembre 2018': 1,\n",
       " '19 juin 2019': 1,\n",
       " '9 juin 2018': 1,\n",
       " '27 juillet 2019': 1,\n",
       " '11 juin 2018': 1,\n",
       " '12 juin 2018': 1,\n",
       " '9 août 2019': 2,\n",
       " '27 août 2019': 1,\n",
       " '10 décembre 2017': 1,\n",
       " '16 décembre 2017': 1,\n",
       " '20 mars 2019': 3,\n",
       " '2 janvier 2019': 2,\n",
       " '14 octobre 2019': 2,\n",
       " '25 avril 2019': 3,\n",
       " '1er novembre 2018': 2,\n",
       " '21 juin 2019': 2,\n",
       " '1er juillet 2017': 1,\n",
       " '30 septembre 2017': 1,\n",
       " '4 juin 2019': 2,\n",
       " '9 octobre 2019': 4,\n",
       " '9 avril 2020': 1,\n",
       " '14 janvier': 1,\n",
       " '5 février 2020': 1,\n",
       " '13 février 2020': 1,\n",
       " '10 avril 2019': 4,\n",
       " '1er août 1977': 1,\n",
       " '27 juillet 1946': 1,\n",
       " '24 mai 1982': 1,\n",
       " '28 juillet 1997': 1,\n",
       " '9 février 1989': 1,\n",
       " '16 août 2000': 1,\n",
       " '20 avril 1999': 9,\n",
       " '2 décembre 2019': 6,\n",
       " '19 septembre 1994': 2,\n",
       " '21 juin 1993': 3,\n",
       " '6 novembre 2019': 4,\n",
       " '23 décembre 1970': 2,\n",
       " '30 décembre 1970': 1,\n",
       " '26 septembre 2019': 2,\n",
       " '31 décembre 2019': 4,\n",
       " '22 avril 1999': 14,\n",
       " '18 janvier 2019': 1,\n",
       " '26 janvier 2019': 1,\n",
       " '26 juin 2019': 1,\n",
       " '3 février 2020': 1,\n",
       " '6 mars 2020': 1,\n",
       " '8 août 1994': 2,\n",
       " '19 décembre 2000': 1,\n",
       " '14 au 16 septembre 2020': 1,\n",
       " '17 septembre 2020': 1,\n",
       " '31 octobre 2000': 1,\n",
       " '11 décembre 2018': 2,\n",
       " '15 novembre 1985': 1,\n",
       " '8 juillet 1941': 1,\n",
       " '22 juin 1998': 2,\n",
       " '6 mai 1996': 5,\n",
       " '14 novembre 2019': 8,\n",
       " '17 novembre 1975': 1,\n",
       " '5 décembre 1997': 1,\n",
       " '1974': 1,\n",
       " '2 août 1998': 1,\n",
       " '19 septembre 1999': 1,\n",
       " '23 avril 1969': 1,\n",
       " '23 novembre 2016': 4,\n",
       " '9 novembre 1984': 1,\n",
       " '2 novembre 2016': 9,\n",
       " '15 juin 2015': 3,\n",
       " '30 septembre 1986': 15,\n",
       " '24 juin 2011': 2,\n",
       " '12 juillet 2011': 2,\n",
       " '19 juillet 2011': 1,\n",
       " '23 mars 1985': 1,\n",
       " '30 novembre 2000': 3,\n",
       " '31 décembre 1996': 2,\n",
       " '25 novembre 2019': 8,\n",
       " '19 juin 2017': 4,\n",
       " '16 novembre 2019': 1,\n",
       " '16 novembre 2018': 2,\n",
       " '6 février 1968': 1,\n",
       " '6-7 juillet 2020': 1,\n",
       " '6 au 7 juillet 2020': 1,\n",
       " '25 janvier 2020': 1,\n",
       " '30 janvier 2020': 1,\n",
       " '24 novembre 2000': 2,\n",
       " '27 novembre 2019': 4,\n",
       " '3 juin 1997': 1,\n",
       " '10 décembre 2019': 2,\n",
       " '11 novembre 1971': 1,\n",
       " '12 décembre 2016': 4,\n",
       " '5 juin 1985': 1,\n",
       " '3 décembre 2019': 7,\n",
       " '13 juin 1993': 1,\n",
       " '26 novembre 2009': 2,\n",
       " '23 décembre 2019': 6,\n",
       " '6 janvier 2006': 1,\n",
       " '19 novembre 2019': 6,\n",
       " '19 novembre 2003': 1,\n",
       " '9 septembre 1994': 1,\n",
       " '28 juin 1993': 1,\n",
       " '2 août 2019': 8,\n",
       " '13 juin 1973': 1,\n",
       " '30 novembre 2019': 2,\n",
       " '25 juillet 2006': 1,\n",
       " '8 février 2011': 1,\n",
       " '5 février 2016': 3,\n",
       " '27 septembre 2011': 1,\n",
       " '10 mars 2016': 1,\n",
       " '12 juillet 2019': 1,\n",
       " '2017': 2,\n",
       " '2018': 5,\n",
       " '17 janvier 2017': 4,\n",
       " '30 juin 1981': 1,\n",
       " '2 janvier 2017': 3,\n",
       " '7 juillet 1994': 1,\n",
       " '1985': 1,\n",
       " '11 avril 1939': 1,\n",
       " '21 décembre 1955': 1,\n",
       " '18 novembre 1974': 1,\n",
       " '31 octobre 2019': 4,\n",
       " '20 septembre 2018': 1,\n",
       " '11 février 2019': 2,\n",
       " '26 avril 2019': 1,\n",
       " '2 mai 2019': 1,\n",
       " '25 septembre 2019': 1,\n",
       " '15 février 2020': 2,\n",
       " '9 janvier 2012': 1,\n",
       " '13 juillet 1983': 2,\n",
       " '28 décembre 2016': 1,\n",
       " '1er octobre 2019': 3,\n",
       " '28 mai 1993': 3,\n",
       " '13 décembre 2013': 1,\n",
       " '2 février 2010': 1,\n",
       " '8 décembre 2005': 1,\n",
       " '24 mai 2019': 2,\n",
       " '23 mars 2019': 2,\n",
       " '2022': 2,\n",
       " '31 juillet 2000': 2,\n",
       " '6 septembre 2019': 5,\n",
       " '14 janvier 1994': 1,\n",
       " '8 juillet 1993': 1,\n",
       " '21 mars 2019': 1,\n",
       " '25 Jan 2020': 1,\n",
       " '4 novembre 2019': 11,\n",
       " '4 décembre 2019': 3,\n",
       " '5 janvier 2020': 1,\n",
       " '29 novembre 2019': 5,\n",
       " '4 août 1973': 1,\n",
       " '22 novembre 2000': 1,\n",
       " '6 février 1995': 1,\n",
       " '26 juin 1997': 1,\n",
       " '6 février 2019': 1,\n",
       " '17 octobre 2019': 1,\n",
       " '21 novembre 2019': 9,\n",
       " '12 janvier 1998': 1,\n",
       " '10 octobre 1994': 1,\n",
       " '13 mai 2004': 1,\n",
       " '7 février 1967': 1,\n",
       " '25 août 2016': 1,\n",
       " '2 octobre 2019': 1,\n",
       " '22 mai 2019': 4,\n",
       " '8 avril 1973': 1,\n",
       " 'janvier 2020': 1,\n",
       " '27 janvier 2020': 1,\n",
       " '31 octobre 2018': 2,\n",
       " '27 juin 1967': 1,\n",
       " '25 juillet 2003': 1,\n",
       " '18 mai 2017': 2,\n",
       " '14 juin 2017': 2,\n",
       " '21 juin 2017': 3,\n",
       " '3 septembre 2019': 2,\n",
       " '2 février 1998': 2,\n",
       " '9 septembre 1987': 1,\n",
       " '11 janvier 1984': 2,\n",
       " '3 mars 2017': 1,\n",
       " '17 décembre 2004': 6,\n",
       " '1er août 2019': 1,\n",
       " '16 décembre 2003': 1,\n",
       " '27 juillet 2005': 6,\n",
       " '25 octobre 2019': 6,\n",
       " '30 octobre 2019': 1,\n",
       " '29 mai 1987': 1,\n",
       " '30 janvier 2017': 2,\n",
       " '28 février 1972': 1,\n",
       " '1er février 2017': 1,\n",
       " '17 mars 2017': 2,\n",
       " '2 août 1976': 1,\n",
       " '1er mars 2017': 1,\n",
       " '2 eu 3 juin 2020': 1,\n",
       " '2 juillet 1982': 1,\n",
       " '8 octobre 2001': 1,\n",
       " '4 juin 2002': 1,\n",
       " '10 septembre 1982': 1,\n",
       " '7 novembre 2019': 14,\n",
       " '11 mars': 1,\n",
       " '20 février 1998': 1,\n",
       " '31 mars 2014': 1,\n",
       " '21 octobre 2019': 2,\n",
       " '30 mai 2014': 2,\n",
       " '29 octobre 2019': 8,\n",
       " '8 novembre 2019': 1,\n",
       " '5 mars 1979': 1,\n",
       " '1er avril 2019': 1,\n",
       " '26 mai 1987': 1,\n",
       " '29 mars 2016': 2,\n",
       " '1er mars 1971': 1,\n",
       " '1er avril 2016': 1,\n",
       " '22 juin 2018': 1,\n",
       " '15 juin 1981': 1,\n",
       " '11 septembre 2019': 4,\n",
       " '6 novembre 2007': 1,\n",
       " '1er mars 2001': 1,\n",
       " '5 mars 2019': 4,\n",
       " '13 juillet 1977': 2,\n",
       " '1er mai 1977': 1,\n",
       " '3 novembre 1997': 1,\n",
       " '2 octobre 1990': 1,\n",
       " '12 septembre 1986': 1,\n",
       " '23 janvier 1989': 1,\n",
       " '21 février 2014': 6,\n",
       " '2014': 2,\n",
       " '29 novembre 2020': 1,\n",
       " '29 juillet 1881': 1,\n",
       " '15 janvier 2020': 1,\n",
       " '6 juin 1966': 1,\n",
       " '1er décembre 2016': 1,\n",
       " '24 avril 2003': 1,\n",
       " '12 août 2013': 1,\n",
       " '5 août 2009': 1,\n",
       " '27 août 2010': 1,\n",
       " '30 mars 1982': 1,\n",
       " '10 février 2020': 1,\n",
       " '23 novembre 2012': 1,\n",
       " '7 juillet 1987': 1,\n",
       " '18 au 27 octobre 2019': 1,\n",
       " '28 octobre 1994': 1,\n",
       " '16 juin 1989': 1,\n",
       " '24 juillet 1998': 1,\n",
       " '15 novembre 2019': 2,\n",
       " '30 décembre 1996': 1,\n",
       " '10 septembre 2019': 3,\n",
       " '30 juin 2020': 1,\n",
       " '9 juillet 1981': 1,\n",
       " '28 octobre 1976': 1,\n",
       " '19 mars 2019': 4,\n",
       " '8 avril 1972': 1,\n",
       " '6 mars 1978': 1,\n",
       " '1er novembre 1985': 1,\n",
       " '13 avril 1978': 1,\n",
       " '22 novembre 2019': 3,\n",
       " '18 septembre 2019': 1,\n",
       " '7 novembre 1958': 3,\n",
       " '25 juillet 2013': 3,\n",
       " '27 juin 2018': 1,\n",
       " '4 février 2010': 1,\n",
       " '10 octobre 2019': 2,\n",
       " '1789': 2,\n",
       " '17 octobre 1996': 1,\n",
       " '14 juin 1999': 1,\n",
       " '30 décembre 1999': 1,\n",
       " '21 mars 2000': 1,\n",
       " '31 mars 1992': 1,\n",
       " '12 novembre 1992': 1,\n",
       " '31 mars 1994': 1,\n",
       " '23 juin 1993': 1,\n",
       " '20 décembre 2019': 4,\n",
       " '7 juin 1951': 3,\n",
       " '23 juillet 2015': 2,\n",
       " '20 mars 2009': 2,\n",
       " '22 février 2012': 1,\n",
       " '25 mars 2016': 1,\n",
       " '10 juillet 2017': 1,\n",
       " '8 août 2016': 2,\n",
       " '10 mars 2020': 1,\n",
       " '20 août 2014': 4,\n",
       " '16 octobre 2019': 1,\n",
       " '31 décembre 2018': 1,\n",
       " '31 juillet 2019': 3,\n",
       " '17 janvier 2002': 1,\n",
       " '2 juin 1990': 1,\n",
       " '7 février 1994': 1,\n",
       " '13 décembre 2019': 2,\n",
       " '31 décembre 2043': 1,\n",
       " '7 octobre 1987': 1,\n",
       " '29 juin 1999': 1,\n",
       " '3 octobre 1990': 1,\n",
       " '20 novembre 2017': 2,\n",
       " '4 avril 1994': 1,\n",
       " '2 novembre 2017': 2,\n",
       " '6 décembre 2005': 1,\n",
       " '20 novembre 2019': 5,\n",
       " '12 mars 2014': 2,\n",
       " '27 mars 2014': 1,\n",
       " '6 juin 2019': 1,\n",
       " '17 décembre 2009': 1,\n",
       " '7 août 1991': 1,\n",
       " '23 juillet 1987': 1,\n",
       " '23 mars 1983': 1,\n",
       " '12 février 1972': 1,\n",
       " '8 janvier 1981': 1,\n",
       " '2003': 2,\n",
       " '1924': 2,\n",
       " '1858': 1,\n",
       " '1932': 1,\n",
       " '1922': 1,\n",
       " '1861': 1,\n",
       " '1925': 1,\n",
       " '24 octobre 2002': 1,\n",
       " '19 novembre 2014': 2,\n",
       " '12 décembre 1992': 1,\n",
       " '2 novembre 2014': 1,\n",
       " '31 octobre 2015': 1,\n",
       " '15 décembre 2017': 2,\n",
       " '2 juin 1987': 1,\n",
       " '19 octobre 1969': 1,\n",
       " '26 et 27 mars 2020': 1,\n",
       " '24 décembre 2019': 1,\n",
       " '1er janvier 2020': 2,\n",
       " '6 juin 1984': 1,\n",
       " '16 janvier 1992': 2,\n",
       " '17 juin 2019': 1,\n",
       " '17 février 2014': 4,\n",
       " '27 avril 2018': 2,\n",
       " '31 mars 2019': 1,\n",
       " '16 décembre 1989': 1,\n",
       " '30 septembre 2019': 2,\n",
       " '31 décembre 1982': 1,\n",
       " '30 juillet 2019': 2,\n",
       " '10 novembre 1945': 1,\n",
       " '22 novembre 2017': 2,\n",
       " '18 septembre 1971': 1,\n",
       " '24 décembre 1991': 1,\n",
       " '22 décembre 1978': 1,\n",
       " '26 janvier 2000': 1,\n",
       " '26 juin 1994': 1,\n",
       " '31 octobre 2001': 1,\n",
       " '26 mai 1955': 2,\n",
       " '7 novembre 2012': 7,\n",
       " '13 février 2017': 1,\n",
       " '2 octobre 2017': 1,\n",
       " '28 février 2018': 1,\n",
       " '7 juillet 2016': 4,\n",
       " '13 juillet 1994': 1,\n",
       " '3 avril 1968': 1,\n",
       " '20 décembre 2017': 2,\n",
       " '2 décembre 1974': 1,\n",
       " '1er décembre 2017': 1,\n",
       " '29 juillet 1998': 1,\n",
       " '3 mai 1994': 1,\n",
       " '10 juillet 1993': 1,\n",
       " '6 avril 1987': 1,\n",
       " '9 novembre 1994': 1,\n",
       " '6 mars 1987': 2,\n",
       " '7 décembre 1990': 2,\n",
       " '28 juillet 2015': 1,\n",
       " '13 avril 2010': 2,\n",
       " '11 septembre 2014': 1,\n",
       " '2 avril 2019': 1,\n",
       " '11 mai 2019': 1,\n",
       " '13 avril 2020': 1,\n",
       " '11 novembre 1974': 1,\n",
       " '20 février 2020': 1,\n",
       " '26 décembre 2019': 2,\n",
       " '24 novembre 2017': 1,\n",
       " '8 juillet 2019': 1,\n",
       " '18 décembre 2019': 1,\n",
       " '20 février 2014': 6,\n",
       " '20 mai 2019': 1,\n",
       " '11 novembre 2019': 2,\n",
       " '18 septembre 1974': 1}"
      ]
     },
     "execution_count": 13,
     "metadata": {},
     "output_type": "execute_result"
    }
   ],
   "source": [
    "assert(isinstance(my_dataset, bt.DocumentCollection))\n",
    "# How are dates formatted ?\n",
    "date_stats = my_dataset.stats_entity_contents_given_label(label=\"Date\")\n",
    "date_stats"
   ]
  },
  {
   "cell_type": "markdown",
   "metadata": {},
   "source": [
    "## Entity-Level Evaluation using MUC-5\n"
   ]
  },
  {
   "cell_type": "code",
   "execution_count": 14,
   "metadata": {},
   "outputs": [
    {
     "name": "stdout",
     "output_type": "stream",
     "text": [
      "writing muc table/workspaces/project/data/demo/eval_results/_muc_table.txt\n"
     ]
    }
   ],
   "source": [
    "# Get the path of both datasets\n",
    "path_data = \"/workspaces/project/data/demo/\"\n",
    "path_gold_standard = path_data+\"eval/test3/medina/\"\n",
    "path_parallel_dataset = path_data+\"eval/test3/tmp/\"\n",
    "path_output = path_data+\"eval_results/\"\n",
    "\n",
    "res = bteval.compare_folders(parallel_folder=path_parallel_dataset, gold_folder=path_gold_standard, eval_folder=path_output)"
   ]
  }
 ],
 "metadata": {
  "kernelspec": {
   "display_name": "project",
   "language": "python",
   "name": "python3"
  },
  "language_info": {
   "codemirror_mode": {
    "name": "ipython",
    "version": 3
   },
   "file_extension": ".py",
   "mimetype": "text/x-python",
   "name": "python",
   "nbconvert_exporter": "python",
   "pygments_lexer": "ipython3",
   "version": "3.12.11"
  }
 },
 "nbformat": 4,
 "nbformat_minor": 2
}
